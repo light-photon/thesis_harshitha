{
 "cells": [
  {
   "cell_type": "code",
   "execution_count": 9,
   "id": "0a97277d",
   "metadata": {},
   "outputs": [],
   "source": [
    "import pandas as pd\n",
    "import plotly.graph_objects as go\n",
    "\n",
    "df_all = pd.read_csv('data1.csv')"
   ]
  },
  {
   "cell_type": "code",
   "execution_count": 10,
   "id": "9caac027",
   "metadata": {},
   "outputs": [
    {
     "data": {
      "text/plain": [
       "Index(['SL.NO', 'NAME', 'AGE ', 'GENDER', 'UHID', 'PRESENTATION', 'Stage_1',\n",
       "       'DOS', 'FNAC', 'Stage_2_class', 'HPE', 'Stage_3', 'Unnamed: 12',\n",
       "       'CORRELATION YES/NO', 'Predicted ', 'Unnamed: 15'],\n",
       "      dtype='object')"
      ]
     },
     "execution_count": 10,
     "metadata": {},
     "output_type": "execute_result"
    }
   ],
   "source": [
    "df_all.columns"
   ]
  },
  {
   "cell_type": "code",
   "execution_count": 11,
   "id": "d135d10a",
   "metadata": {},
   "outputs": [
    {
     "name": "stdout",
     "output_type": "stream",
     "text": [
      "['CARCINOMA' 'BENIGN']\n",
      "[4 2 5 3 1]\n",
      "['THYROIDITIS' 'BENIGN' 'CARCINOMA']\n"
     ]
    }
   ],
   "source": [
    "# CLINICAL DIAGNOSIS\n",
    "# FNAC\n",
    "df_all['Stage_3'] = df_all['Stage_3'].apply(lambda x: x.strip() if isinstance(x, str) else x)\n",
    "\n",
    "print(df_all['Stage_1'].unique())\n",
    "print(df_all['Stage_2_class'].unique())\n",
    "print(df_all['Stage_3'].unique())\n",
    "\n"
   ]
  },
  {
   "cell_type": "code",
   "execution_count": 12,
   "id": "d5f83ad3",
   "metadata": {},
   "outputs": [
    {
     "data": {
      "text/html": [
       "<div>\n",
       "<style scoped>\n",
       "    .dataframe tbody tr th:only-of-type {\n",
       "        vertical-align: middle;\n",
       "    }\n",
       "\n",
       "    .dataframe tbody tr th {\n",
       "        vertical-align: top;\n",
       "    }\n",
       "\n",
       "    .dataframe thead th {\n",
       "        text-align: right;\n",
       "    }\n",
       "</style>\n",
       "<table border=\"1\" class=\"dataframe\">\n",
       "  <thead>\n",
       "    <tr style=\"text-align: right;\">\n",
       "      <th></th>\n",
       "      <th>source</th>\n",
       "      <th>target</th>\n",
       "      <th>value</th>\n",
       "    </tr>\n",
       "  </thead>\n",
       "  <tbody>\n",
       "    <tr>\n",
       "      <th>0</th>\n",
       "      <td>BENIGN</td>\n",
       "      <td>COLLOID GOITRE B-I</td>\n",
       "      <td>3</td>\n",
       "    </tr>\n",
       "    <tr>\n",
       "      <th>1</th>\n",
       "      <td>BENIGN</td>\n",
       "      <td>NODULAR GOITRE B-II</td>\n",
       "      <td>67</td>\n",
       "    </tr>\n",
       "    <tr>\n",
       "      <th>2</th>\n",
       "      <td>BENIGN</td>\n",
       "      <td>FOLLICULAR NEOPLASM B-III</td>\n",
       "      <td>8</td>\n",
       "    </tr>\n",
       "    <tr>\n",
       "      <th>3</th>\n",
       "      <td>BENIGN</td>\n",
       "      <td>FOLLICULAR NEOPLASM B IV</td>\n",
       "      <td>5</td>\n",
       "    </tr>\n",
       "    <tr>\n",
       "      <th>4</th>\n",
       "      <td>BENIGN</td>\n",
       "      <td>PAPILLARY CARCINOMA B-V</td>\n",
       "      <td>2</td>\n",
       "    </tr>\n",
       "    <tr>\n",
       "      <th>5</th>\n",
       "      <td>CARCINOMA</td>\n",
       "      <td>NODULAR GOITRE B-II</td>\n",
       "      <td>2</td>\n",
       "    </tr>\n",
       "    <tr>\n",
       "      <th>6</th>\n",
       "      <td>CARCINOMA</td>\n",
       "      <td>FOLLICULAR NEOPLASM B-III</td>\n",
       "      <td>2</td>\n",
       "    </tr>\n",
       "    <tr>\n",
       "      <th>7</th>\n",
       "      <td>CARCINOMA</td>\n",
       "      <td>FOLLICULAR NEOPLASM B IV</td>\n",
       "      <td>6</td>\n",
       "    </tr>\n",
       "    <tr>\n",
       "      <th>8</th>\n",
       "      <td>CARCINOMA</td>\n",
       "      <td>PAPILLARY CARCINOMA B-V</td>\n",
       "      <td>11</td>\n",
       "    </tr>\n",
       "  </tbody>\n",
       "</table>\n",
       "</div>"
      ],
      "text/plain": [
       "      source                     target  value\n",
       "0     BENIGN         COLLOID GOITRE B-I      3\n",
       "1     BENIGN        NODULAR GOITRE B-II     67\n",
       "2     BENIGN  FOLLICULAR NEOPLASM B-III      8\n",
       "3     BENIGN   FOLLICULAR NEOPLASM B IV      5\n",
       "4     BENIGN    PAPILLARY CARCINOMA B-V      2\n",
       "5  CARCINOMA        NODULAR GOITRE B-II      2\n",
       "6  CARCINOMA  FOLLICULAR NEOPLASM B-III      2\n",
       "7  CARCINOMA   FOLLICULAR NEOPLASM B IV      6\n",
       "8  CARCINOMA    PAPILLARY CARCINOMA B-V     11"
      ]
     },
     "execution_count": 12,
     "metadata": {},
     "output_type": "execute_result"
    }
   ],
   "source": [
    "df1 = df_all.groupby(['Stage_1', 'Stage_2_class'])['SL.NO'].count().reset_index()\n",
    "df1.columns = ['source', 'target', 'value']\n",
    "df1['target'] =df1['target'].map({1: 'COLLOID GOITRE B-I', 2: 'NODULAR GOITRE B-II', 3: 'FOLLICULAR NEOPLASM B-III', 4:'FOLLICULAR NEOPLASM B IV', 5:'PAPILLARY CARCINOMA B-V'})\n",
    "df1\n",
    "\n",
    "#labels = [f\"{source} ({value})\" for source, value in zip(all_links['source'], all_links['value'])]\n",
    "#print(labels)"
   ]
  },
  {
   "cell_type": "code",
   "execution_count": 13,
   "id": "ab047015",
   "metadata": {},
   "outputs": [
    {
     "data": {
      "text/html": [
       "<div>\n",
       "<style scoped>\n",
       "    .dataframe tbody tr th:only-of-type {\n",
       "        vertical-align: middle;\n",
       "    }\n",
       "\n",
       "    .dataframe tbody tr th {\n",
       "        vertical-align: top;\n",
       "    }\n",
       "\n",
       "    .dataframe thead th {\n",
       "        text-align: right;\n",
       "    }\n",
       "</style>\n",
       "<table border=\"1\" class=\"dataframe\">\n",
       "  <thead>\n",
       "    <tr style=\"text-align: right;\">\n",
       "      <th></th>\n",
       "      <th>source</th>\n",
       "      <th>target</th>\n",
       "      <th>value</th>\n",
       "    </tr>\n",
       "  </thead>\n",
       "  <tbody>\n",
       "    <tr>\n",
       "      <th>0</th>\n",
       "      <td>COLLOID GOITRE B-I</td>\n",
       "      <td>BENIGN.</td>\n",
       "      <td>2</td>\n",
       "    </tr>\n",
       "    <tr>\n",
       "      <th>1</th>\n",
       "      <td>COLLOID GOITRE B-I</td>\n",
       "      <td>CARCINOMA.</td>\n",
       "      <td>1</td>\n",
       "    </tr>\n",
       "    <tr>\n",
       "      <th>2</th>\n",
       "      <td>NODULAR GOITRE B-II</td>\n",
       "      <td>BENIGN.</td>\n",
       "      <td>54</td>\n",
       "    </tr>\n",
       "    <tr>\n",
       "      <th>3</th>\n",
       "      <td>NODULAR GOITRE B-II</td>\n",
       "      <td>CARCINOMA.</td>\n",
       "      <td>2</td>\n",
       "    </tr>\n",
       "    <tr>\n",
       "      <th>4</th>\n",
       "      <td>NODULAR GOITRE B-II</td>\n",
       "      <td>THYROIDITIS.</td>\n",
       "      <td>13</td>\n",
       "    </tr>\n",
       "    <tr>\n",
       "      <th>5</th>\n",
       "      <td>FOLLICULAR NEOPLASM B-III</td>\n",
       "      <td>BENIGN.</td>\n",
       "      <td>9</td>\n",
       "    </tr>\n",
       "    <tr>\n",
       "      <th>6</th>\n",
       "      <td>FOLLICULAR NEOPLASM B-III</td>\n",
       "      <td>THYROIDITIS.</td>\n",
       "      <td>1</td>\n",
       "    </tr>\n",
       "    <tr>\n",
       "      <th>7</th>\n",
       "      <td>FOLLICULAR NEOPLASM B IV</td>\n",
       "      <td>BENIGN.</td>\n",
       "      <td>9</td>\n",
       "    </tr>\n",
       "    <tr>\n",
       "      <th>8</th>\n",
       "      <td>FOLLICULAR NEOPLASM B IV</td>\n",
       "      <td>THYROIDITIS.</td>\n",
       "      <td>2</td>\n",
       "    </tr>\n",
       "    <tr>\n",
       "      <th>9</th>\n",
       "      <td>PAPILLARY CARCINOMA B-V</td>\n",
       "      <td>BENIGN.</td>\n",
       "      <td>3</td>\n",
       "    </tr>\n",
       "    <tr>\n",
       "      <th>10</th>\n",
       "      <td>PAPILLARY CARCINOMA B-V</td>\n",
       "      <td>CARCINOMA.</td>\n",
       "      <td>10</td>\n",
       "    </tr>\n",
       "  </tbody>\n",
       "</table>\n",
       "</div>"
      ],
      "text/plain": [
       "                       source        target  value\n",
       "0          COLLOID GOITRE B-I       BENIGN.      2\n",
       "1          COLLOID GOITRE B-I    CARCINOMA.      1\n",
       "2         NODULAR GOITRE B-II       BENIGN.     54\n",
       "3         NODULAR GOITRE B-II    CARCINOMA.      2\n",
       "4         NODULAR GOITRE B-II  THYROIDITIS.     13\n",
       "5   FOLLICULAR NEOPLASM B-III       BENIGN.      9\n",
       "6   FOLLICULAR NEOPLASM B-III  THYROIDITIS.      1\n",
       "7    FOLLICULAR NEOPLASM B IV       BENIGN.      9\n",
       "8    FOLLICULAR NEOPLASM B IV  THYROIDITIS.      2\n",
       "9     PAPILLARY CARCINOMA B-V       BENIGN.      3\n",
       "10    PAPILLARY CARCINOMA B-V    CARCINOMA.     10"
      ]
     },
     "execution_count": 13,
     "metadata": {},
     "output_type": "execute_result"
    }
   ],
   "source": [
    "df2 = df_all.groupby(['Stage_2_class', 'Stage_3'])['SL.NO'].count().reset_index()\n",
    "df2.columns = ['source', 'target', 'value']\n",
    "df2['source'] =df2['source'].map({1: 'COLLOID GOITRE B-I', 2: 'NODULAR GOITRE B-II', 3: 'FOLLICULAR NEOPLASM B-III', 4:'FOLLICULAR NEOPLASM B IV', 5:'PAPILLARY CARCINOMA B-V'})\n",
    "df2['target'] =df2['target'].map({ 'BENIGN': 'BENIGN.', 'CARCINOMA': 'CARCINOMA.', 'THYROIDITIS': 'THYROIDITIS.'})\n",
    "df2"
   ]
  },
  {
   "cell_type": "code",
   "execution_count": 14,
   "id": "f27ecbbf",
   "metadata": {},
   "outputs": [
    {
     "name": "stdout",
     "output_type": "stream",
     "text": [
      "        name  no\n",
      "0     BENIGN  85\n",
      "1  CARCINOMA  21\n",
      "                        name  no\n",
      "0         COLLOID GOITRE B-I   3\n",
      "1        NODULAR GOITRE B-II  69\n",
      "2  FOLLICULAR NEOPLASM B-III  10\n",
      "3   FOLLICULAR NEOPLASM B IV  11\n",
      "4    PAPILLARY CARCINOMA B-V  13\n",
      "           name  no\n",
      "0       BENIGN.  77\n",
      "1    CARCINOMA.  13\n",
      "2  THYROIDITIS.  16\n",
      "   index                       name  no\n",
      "0      0                     BENIGN  85\n",
      "1      1                  CARCINOMA  21\n",
      "2      0         COLLOID GOITRE B-I   3\n",
      "3      1        NODULAR GOITRE B-II  69\n",
      "4      2  FOLLICULAR NEOPLASM B-III  10\n",
      "5      3   FOLLICULAR NEOPLASM B IV  11\n",
      "6      4    PAPILLARY CARCINOMA B-V  13\n",
      "7      0                    BENIGN.  77\n",
      "8      1                 CARCINOMA.  13\n",
      "9      2               THYROIDITIS.  16\n",
      "['BENIGN (85)', 'CARCINOMA (21)', 'COLLOID GOITRE B-I (3)', 'NODULAR GOITRE B-II (69)', 'FOLLICULAR NEOPLASM B-III (10)', 'FOLLICULAR NEOPLASM B IV (11)', 'PAPILLARY CARCINOMA B-V (13)', 'BENIGN. (77)', 'CARCINOMA. (13)', 'THYROIDITIS. (16)']\n"
     ]
    }
   ],
   "source": [
    "df1_label = df_all.groupby(['Stage_1'])['SL.NO'].count().reset_index()\n",
    "df1_label.columns = ['name', 'no']\n",
    "print(df1_label)\n",
    "\n",
    "df2_label = df_all.groupby(['Stage_2_class'])['SL.NO'].count().reset_index()\n",
    "df2_label.columns = ['name', 'no']\n",
    "df2_label['name'] = df2_label['name'].map({1: 'COLLOID GOITRE B-I', 2: 'NODULAR GOITRE B-II', 3: 'FOLLICULAR NEOPLASM B-III', 4:'FOLLICULAR NEOPLASM B IV', 5:'PAPILLARY CARCINOMA B-V'})\n",
    "print(df2_label)\n",
    "\n",
    "df3_label = df_all.groupby(['Stage_3'])['SL.NO'].count().reset_index()\n",
    "df3_label.columns = ['name', 'no']\n",
    "df3_label['name'] = df3_label['name'].map({ 'BENIGN': 'BENIGN.', 'CARCINOMA': 'CARCINOMA.', 'THYROIDITIS': 'THYROIDITIS.'})\n",
    "print(df3_label)\n",
    "\n",
    "df_label = pd.concat([df1_label, df2_label, df3_label], axis=0).reset_index()\n",
    "print(df_label)\n",
    "\n",
    "list_label = []\n",
    "for i, row in df_label.iterrows():\n",
    "    list_label.append( row['name'] + ' (' + str(row['no']) + ')')\n",
    "print(list_label)"
   ]
  },
  {
   "cell_type": "code",
   "execution_count": 15,
   "id": "7d260000",
   "metadata": {},
   "outputs": [
    {
     "name": "stdout",
     "output_type": "stream",
     "text": [
      "                       source                     target  value\n",
      "0                      BENIGN         COLLOID GOITRE B-I      3\n",
      "1                      BENIGN        NODULAR GOITRE B-II     67\n",
      "2                      BENIGN  FOLLICULAR NEOPLASM B-III      8\n",
      "3                      BENIGN   FOLLICULAR NEOPLASM B IV      5\n",
      "4                      BENIGN    PAPILLARY CARCINOMA B-V      2\n",
      "5                   CARCINOMA        NODULAR GOITRE B-II      2\n",
      "6                   CARCINOMA  FOLLICULAR NEOPLASM B-III      2\n",
      "7                   CARCINOMA   FOLLICULAR NEOPLASM B IV      6\n",
      "8                   CARCINOMA    PAPILLARY CARCINOMA B-V     11\n",
      "0          COLLOID GOITRE B-I                    BENIGN.      2\n",
      "1          COLLOID GOITRE B-I                 CARCINOMA.      1\n",
      "2         NODULAR GOITRE B-II                    BENIGN.     54\n",
      "3         NODULAR GOITRE B-II                 CARCINOMA.      2\n",
      "4         NODULAR GOITRE B-II               THYROIDITIS.     13\n",
      "5   FOLLICULAR NEOPLASM B-III                    BENIGN.      9\n",
      "6   FOLLICULAR NEOPLASM B-III               THYROIDITIS.      1\n",
      "7    FOLLICULAR NEOPLASM B IV                    BENIGN.      9\n",
      "8    FOLLICULAR NEOPLASM B IV               THYROIDITIS.      2\n",
      "9     PAPILLARY CARCINOMA B-V                    BENIGN.      3\n",
      "10    PAPILLARY CARCINOMA B-V                 CARCINOMA.     10\n"
     ]
    }
   ],
   "source": [
    "all_links = pd.concat([df1, df2], axis=0)\n",
    "print(all_links)"
   ]
  },
  {
   "cell_type": "code",
   "execution_count": 16,
   "id": "b7472921",
   "metadata": {},
   "outputs": [
    {
     "name": "stdout",
     "output_type": "stream",
     "text": [
      "['BENIGN', 'CARCINOMA', 'COLLOID GOITRE B-I', 'NODULAR GOITRE B-II', 'FOLLICULAR NEOPLASM B-III', 'FOLLICULAR NEOPLASM B IV', 'PAPILLARY CARCINOMA B-V', 'BENIGN.', 'CARCINOMA.', 'THYROIDITIS.']\n",
      "{'BENIGN': 0, 'CARCINOMA': 1, 'COLLOID GOITRE B-I': 2, 'NODULAR GOITRE B-II': 3, 'FOLLICULAR NEOPLASM B-III': 4, 'FOLLICULAR NEOPLASM B IV': 5, 'PAPILLARY CARCINOMA B-V': 6, 'BENIGN.': 7, 'CARCINOMA.': 8, 'THYROIDITIS.': 9}\n",
      "    source  target  value\n",
      "0        0       2      3\n",
      "1        0       3     67\n",
      "2        0       4      8\n",
      "3        0       5      5\n",
      "4        0       6      2\n",
      "5        1       3      2\n",
      "6        1       4      2\n",
      "7        1       5      6\n",
      "8        1       6     11\n",
      "0        2       7      2\n",
      "1        2       8      1\n",
      "2        3       7     54\n",
      "3        3       8      2\n",
      "4        3       9     13\n",
      "5        4       7      9\n",
      "6        4       9      1\n",
      "7        5       7      9\n",
      "8        5       9      2\n",
      "9        6       7      3\n",
      "10       6       8     10\n",
      "{'source': [0, 0, 0, 0, 0, 1, 1, 1, 1, 2, 2, 3, 3, 3, 4, 4, 5, 5, 6, 6], 'target': [2, 3, 4, 5, 6, 3, 4, 5, 6, 7, 8, 7, 8, 9, 7, 9, 7, 9, 7, 8], 'value': [3, 67, 8, 5, 2, 2, 2, 6, 11, 2, 1, 54, 2, 13, 9, 1, 9, 2, 3, 10]}\n"
     ]
    }
   ],
   "source": [
    "#for using with 'label' parameter in plotly \n",
    "#https://sparkbyexamples.com/pandas/pandas-find-unique-values-from-columns\n",
    "unique_source_target = list(pd.unique(all_links[['source', 'target']].values.ravel('K')))\n",
    "print(unique_source_target)\n",
    "\n",
    "#for assigning unique number to each source and target\n",
    "mapping_dict = {k: v for v, k in enumerate(unique_source_target)}\n",
    "print(mapping_dict)\n",
    "\n",
    "#mapping of full data\n",
    "all_links['source'] = all_links['source'].map(mapping_dict)\n",
    "all_links['target'] = all_links['target'].map(mapping_dict)\n",
    "print(all_links)\n",
    "\n",
    "#converting full dataframe as list for using with in plotly\n",
    "links_dict = all_links.to_dict(orient='list')\n",
    "print(links_dict)"
   ]
  },
  {
   "cell_type": "code",
   "execution_count": 19,
   "id": "26eaf0d0",
   "metadata": {},
   "outputs": [
    {
     "data": {
      "application/vnd.plotly.v1+json": {
       "config": {
        "plotlyServerURL": "https://plot.ly"
       },
       "data": [
        {
         "link": {
          "source": [
           0,
           0,
           0,
           0,
           0,
           1,
           1,
           1,
           1,
           2,
           2,
           3,
           3,
           3,
           4,
           4,
           5,
           5,
           6,
           6
          ],
          "target": [
           2,
           3,
           4,
           5,
           6,
           3,
           4,
           5,
           6,
           7,
           8,
           7,
           8,
           9,
           7,
           9,
           7,
           9,
           7,
           8
          ],
          "value": [
           3,
           67,
           8,
           5,
           2,
           2,
           2,
           6,
           11,
           2,
           1,
           54,
           2,
           13,
           9,
           1,
           9,
           2,
           3,
           10
          ]
         },
         "node": {
          "label": [
           "BENIGN (85)",
           "CARCINOMA (21)",
           "COLLOID GOITRE B-I (3)",
           "NODULAR GOITRE B-II (69)",
           "FOLLICULAR NEOPLASM B-III (10)",
           "FOLLICULAR NEOPLASM B IV (11)",
           "PAPILLARY CARCINOMA B-V (13)",
           "BENIGN. (77)",
           "CARCINOMA. (13)",
           "THYROIDITIS. (16)"
          ],
          "line": {
           "color": "black",
           "width": 0.8
          },
          "pad": 15,
          "thickness": 25
         },
         "type": "sankey"
        }
       ],
       "layout": {
        "font": {
         "color": "blue",
         "family": "Arial",
         "size": 15
        },
        "height": 600,
        "template": {
         "data": {
          "bar": [
           {
            "error_x": {
             "color": "#2a3f5f"
            },
            "error_y": {
             "color": "#2a3f5f"
            },
            "marker": {
             "line": {
              "color": "#E5ECF6",
              "width": 0.5
             },
             "pattern": {
              "fillmode": "overlay",
              "size": 10,
              "solidity": 0.2
             }
            },
            "type": "bar"
           }
          ],
          "barpolar": [
           {
            "marker": {
             "line": {
              "color": "#E5ECF6",
              "width": 0.5
             },
             "pattern": {
              "fillmode": "overlay",
              "size": 10,
              "solidity": 0.2
             }
            },
            "type": "barpolar"
           }
          ],
          "carpet": [
           {
            "aaxis": {
             "endlinecolor": "#2a3f5f",
             "gridcolor": "white",
             "linecolor": "white",
             "minorgridcolor": "white",
             "startlinecolor": "#2a3f5f"
            },
            "baxis": {
             "endlinecolor": "#2a3f5f",
             "gridcolor": "white",
             "linecolor": "white",
             "minorgridcolor": "white",
             "startlinecolor": "#2a3f5f"
            },
            "type": "carpet"
           }
          ],
          "choropleth": [
           {
            "colorbar": {
             "outlinewidth": 0,
             "ticks": ""
            },
            "type": "choropleth"
           }
          ],
          "contour": [
           {
            "colorbar": {
             "outlinewidth": 0,
             "ticks": ""
            },
            "colorscale": [
             [
              0,
              "#0d0887"
             ],
             [
              0.1111111111111111,
              "#46039f"
             ],
             [
              0.2222222222222222,
              "#7201a8"
             ],
             [
              0.3333333333333333,
              "#9c179e"
             ],
             [
              0.4444444444444444,
              "#bd3786"
             ],
             [
              0.5555555555555556,
              "#d8576b"
             ],
             [
              0.6666666666666666,
              "#ed7953"
             ],
             [
              0.7777777777777778,
              "#fb9f3a"
             ],
             [
              0.8888888888888888,
              "#fdca26"
             ],
             [
              1,
              "#f0f921"
             ]
            ],
            "type": "contour"
           }
          ],
          "contourcarpet": [
           {
            "colorbar": {
             "outlinewidth": 0,
             "ticks": ""
            },
            "type": "contourcarpet"
           }
          ],
          "heatmap": [
           {
            "colorbar": {
             "outlinewidth": 0,
             "ticks": ""
            },
            "colorscale": [
             [
              0,
              "#0d0887"
             ],
             [
              0.1111111111111111,
              "#46039f"
             ],
             [
              0.2222222222222222,
              "#7201a8"
             ],
             [
              0.3333333333333333,
              "#9c179e"
             ],
             [
              0.4444444444444444,
              "#bd3786"
             ],
             [
              0.5555555555555556,
              "#d8576b"
             ],
             [
              0.6666666666666666,
              "#ed7953"
             ],
             [
              0.7777777777777778,
              "#fb9f3a"
             ],
             [
              0.8888888888888888,
              "#fdca26"
             ],
             [
              1,
              "#f0f921"
             ]
            ],
            "type": "heatmap"
           }
          ],
          "heatmapgl": [
           {
            "colorbar": {
             "outlinewidth": 0,
             "ticks": ""
            },
            "colorscale": [
             [
              0,
              "#0d0887"
             ],
             [
              0.1111111111111111,
              "#46039f"
             ],
             [
              0.2222222222222222,
              "#7201a8"
             ],
             [
              0.3333333333333333,
              "#9c179e"
             ],
             [
              0.4444444444444444,
              "#bd3786"
             ],
             [
              0.5555555555555556,
              "#d8576b"
             ],
             [
              0.6666666666666666,
              "#ed7953"
             ],
             [
              0.7777777777777778,
              "#fb9f3a"
             ],
             [
              0.8888888888888888,
              "#fdca26"
             ],
             [
              1,
              "#f0f921"
             ]
            ],
            "type": "heatmapgl"
           }
          ],
          "histogram": [
           {
            "marker": {
             "pattern": {
              "fillmode": "overlay",
              "size": 10,
              "solidity": 0.2
             }
            },
            "type": "histogram"
           }
          ],
          "histogram2d": [
           {
            "colorbar": {
             "outlinewidth": 0,
             "ticks": ""
            },
            "colorscale": [
             [
              0,
              "#0d0887"
             ],
             [
              0.1111111111111111,
              "#46039f"
             ],
             [
              0.2222222222222222,
              "#7201a8"
             ],
             [
              0.3333333333333333,
              "#9c179e"
             ],
             [
              0.4444444444444444,
              "#bd3786"
             ],
             [
              0.5555555555555556,
              "#d8576b"
             ],
             [
              0.6666666666666666,
              "#ed7953"
             ],
             [
              0.7777777777777778,
              "#fb9f3a"
             ],
             [
              0.8888888888888888,
              "#fdca26"
             ],
             [
              1,
              "#f0f921"
             ]
            ],
            "type": "histogram2d"
           }
          ],
          "histogram2dcontour": [
           {
            "colorbar": {
             "outlinewidth": 0,
             "ticks": ""
            },
            "colorscale": [
             [
              0,
              "#0d0887"
             ],
             [
              0.1111111111111111,
              "#46039f"
             ],
             [
              0.2222222222222222,
              "#7201a8"
             ],
             [
              0.3333333333333333,
              "#9c179e"
             ],
             [
              0.4444444444444444,
              "#bd3786"
             ],
             [
              0.5555555555555556,
              "#d8576b"
             ],
             [
              0.6666666666666666,
              "#ed7953"
             ],
             [
              0.7777777777777778,
              "#fb9f3a"
             ],
             [
              0.8888888888888888,
              "#fdca26"
             ],
             [
              1,
              "#f0f921"
             ]
            ],
            "type": "histogram2dcontour"
           }
          ],
          "mesh3d": [
           {
            "colorbar": {
             "outlinewidth": 0,
             "ticks": ""
            },
            "type": "mesh3d"
           }
          ],
          "parcoords": [
           {
            "line": {
             "colorbar": {
              "outlinewidth": 0,
              "ticks": ""
             }
            },
            "type": "parcoords"
           }
          ],
          "pie": [
           {
            "automargin": true,
            "type": "pie"
           }
          ],
          "scatter": [
           {
            "fillpattern": {
             "fillmode": "overlay",
             "size": 10,
             "solidity": 0.2
            },
            "type": "scatter"
           }
          ],
          "scatter3d": [
           {
            "line": {
             "colorbar": {
              "outlinewidth": 0,
              "ticks": ""
             }
            },
            "marker": {
             "colorbar": {
              "outlinewidth": 0,
              "ticks": ""
             }
            },
            "type": "scatter3d"
           }
          ],
          "scattercarpet": [
           {
            "marker": {
             "colorbar": {
              "outlinewidth": 0,
              "ticks": ""
             }
            },
            "type": "scattercarpet"
           }
          ],
          "scattergeo": [
           {
            "marker": {
             "colorbar": {
              "outlinewidth": 0,
              "ticks": ""
             }
            },
            "type": "scattergeo"
           }
          ],
          "scattergl": [
           {
            "marker": {
             "colorbar": {
              "outlinewidth": 0,
              "ticks": ""
             }
            },
            "type": "scattergl"
           }
          ],
          "scattermapbox": [
           {
            "marker": {
             "colorbar": {
              "outlinewidth": 0,
              "ticks": ""
             }
            },
            "type": "scattermapbox"
           }
          ],
          "scatterpolar": [
           {
            "marker": {
             "colorbar": {
              "outlinewidth": 0,
              "ticks": ""
             }
            },
            "type": "scatterpolar"
           }
          ],
          "scatterpolargl": [
           {
            "marker": {
             "colorbar": {
              "outlinewidth": 0,
              "ticks": ""
             }
            },
            "type": "scatterpolargl"
           }
          ],
          "scatterternary": [
           {
            "marker": {
             "colorbar": {
              "outlinewidth": 0,
              "ticks": ""
             }
            },
            "type": "scatterternary"
           }
          ],
          "surface": [
           {
            "colorbar": {
             "outlinewidth": 0,
             "ticks": ""
            },
            "colorscale": [
             [
              0,
              "#0d0887"
             ],
             [
              0.1111111111111111,
              "#46039f"
             ],
             [
              0.2222222222222222,
              "#7201a8"
             ],
             [
              0.3333333333333333,
              "#9c179e"
             ],
             [
              0.4444444444444444,
              "#bd3786"
             ],
             [
              0.5555555555555556,
              "#d8576b"
             ],
             [
              0.6666666666666666,
              "#ed7953"
             ],
             [
              0.7777777777777778,
              "#fb9f3a"
             ],
             [
              0.8888888888888888,
              "#fdca26"
             ],
             [
              1,
              "#f0f921"
             ]
            ],
            "type": "surface"
           }
          ],
          "table": [
           {
            "cells": {
             "fill": {
              "color": "#EBF0F8"
             },
             "line": {
              "color": "white"
             }
            },
            "header": {
             "fill": {
              "color": "#C8D4E3"
             },
             "line": {
              "color": "white"
             }
            },
            "type": "table"
           }
          ]
         },
         "layout": {
          "annotationdefaults": {
           "arrowcolor": "#2a3f5f",
           "arrowhead": 0,
           "arrowwidth": 1
          },
          "autotypenumbers": "strict",
          "coloraxis": {
           "colorbar": {
            "outlinewidth": 0,
            "ticks": ""
           }
          },
          "colorscale": {
           "diverging": [
            [
             0,
             "#8e0152"
            ],
            [
             0.1,
             "#c51b7d"
            ],
            [
             0.2,
             "#de77ae"
            ],
            [
             0.3,
             "#f1b6da"
            ],
            [
             0.4,
             "#fde0ef"
            ],
            [
             0.5,
             "#f7f7f7"
            ],
            [
             0.6,
             "#e6f5d0"
            ],
            [
             0.7,
             "#b8e186"
            ],
            [
             0.8,
             "#7fbc41"
            ],
            [
             0.9,
             "#4d9221"
            ],
            [
             1,
             "#276419"
            ]
           ],
           "sequential": [
            [
             0,
             "#0d0887"
            ],
            [
             0.1111111111111111,
             "#46039f"
            ],
            [
             0.2222222222222222,
             "#7201a8"
            ],
            [
             0.3333333333333333,
             "#9c179e"
            ],
            [
             0.4444444444444444,
             "#bd3786"
            ],
            [
             0.5555555555555556,
             "#d8576b"
            ],
            [
             0.6666666666666666,
             "#ed7953"
            ],
            [
             0.7777777777777778,
             "#fb9f3a"
            ],
            [
             0.8888888888888888,
             "#fdca26"
            ],
            [
             1,
             "#f0f921"
            ]
           ],
           "sequentialminus": [
            [
             0,
             "#0d0887"
            ],
            [
             0.1111111111111111,
             "#46039f"
            ],
            [
             0.2222222222222222,
             "#7201a8"
            ],
            [
             0.3333333333333333,
             "#9c179e"
            ],
            [
             0.4444444444444444,
             "#bd3786"
            ],
            [
             0.5555555555555556,
             "#d8576b"
            ],
            [
             0.6666666666666666,
             "#ed7953"
            ],
            [
             0.7777777777777778,
             "#fb9f3a"
            ],
            [
             0.8888888888888888,
             "#fdca26"
            ],
            [
             1,
             "#f0f921"
            ]
           ]
          },
          "colorway": [
           "#636efa",
           "#EF553B",
           "#00cc96",
           "#ab63fa",
           "#FFA15A",
           "#19d3f3",
           "#FF6692",
           "#B6E880",
           "#FF97FF",
           "#FECB52"
          ],
          "font": {
           "color": "#2a3f5f"
          },
          "geo": {
           "bgcolor": "white",
           "lakecolor": "white",
           "landcolor": "#E5ECF6",
           "showlakes": true,
           "showland": true,
           "subunitcolor": "white"
          },
          "hoverlabel": {
           "align": "left"
          },
          "hovermode": "closest",
          "mapbox": {
           "style": "light"
          },
          "paper_bgcolor": "white",
          "plot_bgcolor": "#E5ECF6",
          "polar": {
           "angularaxis": {
            "gridcolor": "white",
            "linecolor": "white",
            "ticks": ""
           },
           "bgcolor": "#E5ECF6",
           "radialaxis": {
            "gridcolor": "white",
            "linecolor": "white",
            "ticks": ""
           }
          },
          "scene": {
           "xaxis": {
            "backgroundcolor": "#E5ECF6",
            "gridcolor": "white",
            "gridwidth": 2,
            "linecolor": "white",
            "showbackground": true,
            "ticks": "",
            "zerolinecolor": "white"
           },
           "yaxis": {
            "backgroundcolor": "#E5ECF6",
            "gridcolor": "white",
            "gridwidth": 2,
            "linecolor": "white",
            "showbackground": true,
            "ticks": "",
            "zerolinecolor": "white"
           },
           "zaxis": {
            "backgroundcolor": "#E5ECF6",
            "gridcolor": "white",
            "gridwidth": 2,
            "linecolor": "white",
            "showbackground": true,
            "ticks": "",
            "zerolinecolor": "white"
           }
          },
          "shapedefaults": {
           "line": {
            "color": "#2a3f5f"
           }
          },
          "ternary": {
           "aaxis": {
            "gridcolor": "white",
            "linecolor": "white",
            "ticks": ""
           },
           "baxis": {
            "gridcolor": "white",
            "linecolor": "white",
            "ticks": ""
           },
           "bgcolor": "#E5ECF6",
           "caxis": {
            "gridcolor": "white",
            "linecolor": "white",
            "ticks": ""
           }
          },
          "title": {
           "x": 0.05
          },
          "xaxis": {
           "automargin": true,
           "gridcolor": "white",
           "linecolor": "white",
           "ticks": "",
           "title": {
            "standoff": 15
           },
           "zerolinecolor": "white",
           "zerolinewidth": 2
          },
          "yaxis": {
           "automargin": true,
           "gridcolor": "white",
           "linecolor": "white",
           "ticks": "",
           "title": {
            "standoff": 15
           },
           "zerolinecolor": "white",
           "zerolinewidth": 2
          }
         }
        },
        "title": {
         "text": "",
         "x": 0.5
        },
        "width": 1000
       }
      },
      "text/html": [
       "<div>                            <div id=\"16c921a0-87fc-45a9-9f7a-bffdb822983f\" class=\"plotly-graph-div\" style=\"height:600px; width:1000px;\"></div>            <script type=\"text/javascript\">                require([\"plotly\"], function(Plotly) {                    window.PLOTLYENV=window.PLOTLYENV || {};                                    if (document.getElementById(\"16c921a0-87fc-45a9-9f7a-bffdb822983f\")) {                    Plotly.newPlot(                        \"16c921a0-87fc-45a9-9f7a-bffdb822983f\",                        [{\"link\":{\"source\":[0,0,0,0,0,1,1,1,1,2,2,3,3,3,4,4,5,5,6,6],\"target\":[2,3,4,5,6,3,4,5,6,7,8,7,8,9,7,9,7,9,7,8],\"value\":[3,67,8,5,2,2,2,6,11,2,1,54,2,13,9,1,9,2,3,10]},\"node\":{\"label\":[\"BENIGN (85)\",\"CARCINOMA (21)\",\"COLLOID GOITRE B-I (3)\",\"NODULAR GOITRE B-II (69)\",\"FOLLICULAR NEOPLASM B-III (10)\",\"FOLLICULAR NEOPLASM B IV (11)\",\"PAPILLARY CARCINOMA B-V (13)\",\"BENIGN. (77)\",\"CARCINOMA. (13)\",\"THYROIDITIS. (16)\"],\"line\":{\"color\":\"black\",\"width\":0.8},\"pad\":15,\"thickness\":25},\"type\":\"sankey\"}],                        {\"template\":{\"data\":{\"histogram2dcontour\":[{\"type\":\"histogram2dcontour\",\"colorbar\":{\"outlinewidth\":0,\"ticks\":\"\"},\"colorscale\":[[0.0,\"#0d0887\"],[0.1111111111111111,\"#46039f\"],[0.2222222222222222,\"#7201a8\"],[0.3333333333333333,\"#9c179e\"],[0.4444444444444444,\"#bd3786\"],[0.5555555555555556,\"#d8576b\"],[0.6666666666666666,\"#ed7953\"],[0.7777777777777778,\"#fb9f3a\"],[0.8888888888888888,\"#fdca26\"],[1.0,\"#f0f921\"]]}],\"choropleth\":[{\"type\":\"choropleth\",\"colorbar\":{\"outlinewidth\":0,\"ticks\":\"\"}}],\"histogram2d\":[{\"type\":\"histogram2d\",\"colorbar\":{\"outlinewidth\":0,\"ticks\":\"\"},\"colorscale\":[[0.0,\"#0d0887\"],[0.1111111111111111,\"#46039f\"],[0.2222222222222222,\"#7201a8\"],[0.3333333333333333,\"#9c179e\"],[0.4444444444444444,\"#bd3786\"],[0.5555555555555556,\"#d8576b\"],[0.6666666666666666,\"#ed7953\"],[0.7777777777777778,\"#fb9f3a\"],[0.8888888888888888,\"#fdca26\"],[1.0,\"#f0f921\"]]}],\"heatmap\":[{\"type\":\"heatmap\",\"colorbar\":{\"outlinewidth\":0,\"ticks\":\"\"},\"colorscale\":[[0.0,\"#0d0887\"],[0.1111111111111111,\"#46039f\"],[0.2222222222222222,\"#7201a8\"],[0.3333333333333333,\"#9c179e\"],[0.4444444444444444,\"#bd3786\"],[0.5555555555555556,\"#d8576b\"],[0.6666666666666666,\"#ed7953\"],[0.7777777777777778,\"#fb9f3a\"],[0.8888888888888888,\"#fdca26\"],[1.0,\"#f0f921\"]]}],\"heatmapgl\":[{\"type\":\"heatmapgl\",\"colorbar\":{\"outlinewidth\":0,\"ticks\":\"\"},\"colorscale\":[[0.0,\"#0d0887\"],[0.1111111111111111,\"#46039f\"],[0.2222222222222222,\"#7201a8\"],[0.3333333333333333,\"#9c179e\"],[0.4444444444444444,\"#bd3786\"],[0.5555555555555556,\"#d8576b\"],[0.6666666666666666,\"#ed7953\"],[0.7777777777777778,\"#fb9f3a\"],[0.8888888888888888,\"#fdca26\"],[1.0,\"#f0f921\"]]}],\"contourcarpet\":[{\"type\":\"contourcarpet\",\"colorbar\":{\"outlinewidth\":0,\"ticks\":\"\"}}],\"contour\":[{\"type\":\"contour\",\"colorbar\":{\"outlinewidth\":0,\"ticks\":\"\"},\"colorscale\":[[0.0,\"#0d0887\"],[0.1111111111111111,\"#46039f\"],[0.2222222222222222,\"#7201a8\"],[0.3333333333333333,\"#9c179e\"],[0.4444444444444444,\"#bd3786\"],[0.5555555555555556,\"#d8576b\"],[0.6666666666666666,\"#ed7953\"],[0.7777777777777778,\"#fb9f3a\"],[0.8888888888888888,\"#fdca26\"],[1.0,\"#f0f921\"]]}],\"surface\":[{\"type\":\"surface\",\"colorbar\":{\"outlinewidth\":0,\"ticks\":\"\"},\"colorscale\":[[0.0,\"#0d0887\"],[0.1111111111111111,\"#46039f\"],[0.2222222222222222,\"#7201a8\"],[0.3333333333333333,\"#9c179e\"],[0.4444444444444444,\"#bd3786\"],[0.5555555555555556,\"#d8576b\"],[0.6666666666666666,\"#ed7953\"],[0.7777777777777778,\"#fb9f3a\"],[0.8888888888888888,\"#fdca26\"],[1.0,\"#f0f921\"]]}],\"mesh3d\":[{\"type\":\"mesh3d\",\"colorbar\":{\"outlinewidth\":0,\"ticks\":\"\"}}],\"scatter\":[{\"fillpattern\":{\"fillmode\":\"overlay\",\"size\":10,\"solidity\":0.2},\"type\":\"scatter\"}],\"parcoords\":[{\"type\":\"parcoords\",\"line\":{\"colorbar\":{\"outlinewidth\":0,\"ticks\":\"\"}}}],\"scatterpolargl\":[{\"type\":\"scatterpolargl\",\"marker\":{\"colorbar\":{\"outlinewidth\":0,\"ticks\":\"\"}}}],\"bar\":[{\"error_x\":{\"color\":\"#2a3f5f\"},\"error_y\":{\"color\":\"#2a3f5f\"},\"marker\":{\"line\":{\"color\":\"#E5ECF6\",\"width\":0.5},\"pattern\":{\"fillmode\":\"overlay\",\"size\":10,\"solidity\":0.2}},\"type\":\"bar\"}],\"scattergeo\":[{\"type\":\"scattergeo\",\"marker\":{\"colorbar\":{\"outlinewidth\":0,\"ticks\":\"\"}}}],\"scatterpolar\":[{\"type\":\"scatterpolar\",\"marker\":{\"colorbar\":{\"outlinewidth\":0,\"ticks\":\"\"}}}],\"histogram\":[{\"marker\":{\"pattern\":{\"fillmode\":\"overlay\",\"size\":10,\"solidity\":0.2}},\"type\":\"histogram\"}],\"scattergl\":[{\"type\":\"scattergl\",\"marker\":{\"colorbar\":{\"outlinewidth\":0,\"ticks\":\"\"}}}],\"scatter3d\":[{\"type\":\"scatter3d\",\"line\":{\"colorbar\":{\"outlinewidth\":0,\"ticks\":\"\"}},\"marker\":{\"colorbar\":{\"outlinewidth\":0,\"ticks\":\"\"}}}],\"scattermapbox\":[{\"type\":\"scattermapbox\",\"marker\":{\"colorbar\":{\"outlinewidth\":0,\"ticks\":\"\"}}}],\"scatterternary\":[{\"type\":\"scatterternary\",\"marker\":{\"colorbar\":{\"outlinewidth\":0,\"ticks\":\"\"}}}],\"scattercarpet\":[{\"type\":\"scattercarpet\",\"marker\":{\"colorbar\":{\"outlinewidth\":0,\"ticks\":\"\"}}}],\"carpet\":[{\"aaxis\":{\"endlinecolor\":\"#2a3f5f\",\"gridcolor\":\"white\",\"linecolor\":\"white\",\"minorgridcolor\":\"white\",\"startlinecolor\":\"#2a3f5f\"},\"baxis\":{\"endlinecolor\":\"#2a3f5f\",\"gridcolor\":\"white\",\"linecolor\":\"white\",\"minorgridcolor\":\"white\",\"startlinecolor\":\"#2a3f5f\"},\"type\":\"carpet\"}],\"table\":[{\"cells\":{\"fill\":{\"color\":\"#EBF0F8\"},\"line\":{\"color\":\"white\"}},\"header\":{\"fill\":{\"color\":\"#C8D4E3\"},\"line\":{\"color\":\"white\"}},\"type\":\"table\"}],\"barpolar\":[{\"marker\":{\"line\":{\"color\":\"#E5ECF6\",\"width\":0.5},\"pattern\":{\"fillmode\":\"overlay\",\"size\":10,\"solidity\":0.2}},\"type\":\"barpolar\"}],\"pie\":[{\"automargin\":true,\"type\":\"pie\"}]},\"layout\":{\"autotypenumbers\":\"strict\",\"colorway\":[\"#636efa\",\"#EF553B\",\"#00cc96\",\"#ab63fa\",\"#FFA15A\",\"#19d3f3\",\"#FF6692\",\"#B6E880\",\"#FF97FF\",\"#FECB52\"],\"font\":{\"color\":\"#2a3f5f\"},\"hovermode\":\"closest\",\"hoverlabel\":{\"align\":\"left\"},\"paper_bgcolor\":\"white\",\"plot_bgcolor\":\"#E5ECF6\",\"polar\":{\"bgcolor\":\"#E5ECF6\",\"angularaxis\":{\"gridcolor\":\"white\",\"linecolor\":\"white\",\"ticks\":\"\"},\"radialaxis\":{\"gridcolor\":\"white\",\"linecolor\":\"white\",\"ticks\":\"\"}},\"ternary\":{\"bgcolor\":\"#E5ECF6\",\"aaxis\":{\"gridcolor\":\"white\",\"linecolor\":\"white\",\"ticks\":\"\"},\"baxis\":{\"gridcolor\":\"white\",\"linecolor\":\"white\",\"ticks\":\"\"},\"caxis\":{\"gridcolor\":\"white\",\"linecolor\":\"white\",\"ticks\":\"\"}},\"coloraxis\":{\"colorbar\":{\"outlinewidth\":0,\"ticks\":\"\"}},\"colorscale\":{\"sequential\":[[0.0,\"#0d0887\"],[0.1111111111111111,\"#46039f\"],[0.2222222222222222,\"#7201a8\"],[0.3333333333333333,\"#9c179e\"],[0.4444444444444444,\"#bd3786\"],[0.5555555555555556,\"#d8576b\"],[0.6666666666666666,\"#ed7953\"],[0.7777777777777778,\"#fb9f3a\"],[0.8888888888888888,\"#fdca26\"],[1.0,\"#f0f921\"]],\"sequentialminus\":[[0.0,\"#0d0887\"],[0.1111111111111111,\"#46039f\"],[0.2222222222222222,\"#7201a8\"],[0.3333333333333333,\"#9c179e\"],[0.4444444444444444,\"#bd3786\"],[0.5555555555555556,\"#d8576b\"],[0.6666666666666666,\"#ed7953\"],[0.7777777777777778,\"#fb9f3a\"],[0.8888888888888888,\"#fdca26\"],[1.0,\"#f0f921\"]],\"diverging\":[[0,\"#8e0152\"],[0.1,\"#c51b7d\"],[0.2,\"#de77ae\"],[0.3,\"#f1b6da\"],[0.4,\"#fde0ef\"],[0.5,\"#f7f7f7\"],[0.6,\"#e6f5d0\"],[0.7,\"#b8e186\"],[0.8,\"#7fbc41\"],[0.9,\"#4d9221\"],[1,\"#276419\"]]},\"xaxis\":{\"gridcolor\":\"white\",\"linecolor\":\"white\",\"ticks\":\"\",\"title\":{\"standoff\":15},\"zerolinecolor\":\"white\",\"automargin\":true,\"zerolinewidth\":2},\"yaxis\":{\"gridcolor\":\"white\",\"linecolor\":\"white\",\"ticks\":\"\",\"title\":{\"standoff\":15},\"zerolinecolor\":\"white\",\"automargin\":true,\"zerolinewidth\":2},\"scene\":{\"xaxis\":{\"backgroundcolor\":\"#E5ECF6\",\"gridcolor\":\"white\",\"linecolor\":\"white\",\"showbackground\":true,\"ticks\":\"\",\"zerolinecolor\":\"white\",\"gridwidth\":2},\"yaxis\":{\"backgroundcolor\":\"#E5ECF6\",\"gridcolor\":\"white\",\"linecolor\":\"white\",\"showbackground\":true,\"ticks\":\"\",\"zerolinecolor\":\"white\",\"gridwidth\":2},\"zaxis\":{\"backgroundcolor\":\"#E5ECF6\",\"gridcolor\":\"white\",\"linecolor\":\"white\",\"showbackground\":true,\"ticks\":\"\",\"zerolinecolor\":\"white\",\"gridwidth\":2}},\"shapedefaults\":{\"line\":{\"color\":\"#2a3f5f\"}},\"annotationdefaults\":{\"arrowcolor\":\"#2a3f5f\",\"arrowhead\":0,\"arrowwidth\":1},\"geo\":{\"bgcolor\":\"white\",\"landcolor\":\"#E5ECF6\",\"subunitcolor\":\"white\",\"showland\":true,\"showlakes\":true,\"lakecolor\":\"white\"},\"title\":{\"x\":0.05},\"mapbox\":{\"style\":\"light\"}}},\"title\":{\"text\":\"\",\"x\":0.5},\"font\":{\"size\":15,\"family\":\"Arial\",\"color\":\"blue\"},\"width\":1000,\"height\":600},                        {\"responsive\": true}                    ).then(function(){\n",
       "                            \n",
       "var gd = document.getElementById('16c921a0-87fc-45a9-9f7a-bffdb822983f');\n",
       "var x = new MutationObserver(function (mutations, observer) {{\n",
       "        var display = window.getComputedStyle(gd).display;\n",
       "        if (!display || display === 'none') {{\n",
       "            console.log([gd, 'removed!']);\n",
       "            Plotly.purge(gd);\n",
       "            observer.disconnect();\n",
       "        }}\n",
       "}});\n",
       "\n",
       "// Listen for the removal of the full notebook cells\n",
       "var notebookContainer = gd.closest('#notebook-container');\n",
       "if (notebookContainer) {{\n",
       "    x.observe(notebookContainer, {childList: true});\n",
       "}}\n",
       "\n",
       "// Listen for the clearing of the current output cell\n",
       "var outputEl = gd.closest('.output');\n",
       "if (outputEl) {{\n",
       "    x.observe(outputEl, {childList: true});\n",
       "}}\n",
       "\n",
       "                        })                };                });            </script>        </div>"
      ]
     },
     "metadata": {},
     "output_type": "display_data"
    }
   ],
   "source": [
    "import matplotlib.pyplot as plt\n",
    "\n",
    "#Sankey Diagram Code\n",
    "plt.rcParams[\"figure.figsize\"] = (20, 15)\n",
    "\n",
    "fig = go.Figure(data=[go.Sankey(\n",
    "    node = dict(\n",
    "      pad = 15,\n",
    "      thickness = 25,\n",
    "      line = dict(color = \"black\", width = 0.8),\n",
    "      label = list_label\n",
    "    ),\n",
    "    link = dict(\n",
    "      source = links_dict[\"source\"],\n",
    "      target = links_dict[\"target\"],\n",
    "      value = links_dict[\"value\"],\n",
    "      #hovertemplate='%{source} -> %{target}: %{value}<extra></extra>'\n",
    "  \n",
    "  ))])\n",
    "\n",
    "#fig.update_traces(line=dict(color=\"orange\"))\n",
    "#fig.update_layout(title_text=\"Diagnosis results at various stages with no. of patients \", font_size=15, font=dict(family=\"Arial\", size=15, color='blue'), width=1000, height=600, title_x=0.5)\n",
    "fig.update_layout(title_text=\"\", font_size=15, font=dict(family=\"Arial\", size=15, color='blue'), width=1000, height=600, title_x=0.5)\n",
    "fig.show()\n",
    "\n",
    "fig.write_image(\"fig1.png\")\n",
    "#On hovering mouse over the diagram more details are visible"
   ]
  },
  {
   "cell_type": "code",
   "execution_count": 22,
   "id": "1d4266b1",
   "metadata": {},
   "outputs": [
    {
     "data": {
      "text/html": [
       "<div>\n",
       "<style scoped>\n",
       "    .dataframe tbody tr th:only-of-type {\n",
       "        vertical-align: middle;\n",
       "    }\n",
       "\n",
       "    .dataframe tbody tr th {\n",
       "        vertical-align: top;\n",
       "    }\n",
       "\n",
       "    .dataframe thead th {\n",
       "        text-align: right;\n",
       "    }\n",
       "</style>\n",
       "<table border=\"1\" class=\"dataframe\">\n",
       "  <thead>\n",
       "    <tr style=\"text-align: right;\">\n",
       "      <th></th>\n",
       "      <th>SL.NO</th>\n",
       "      <th>NAME</th>\n",
       "      <th>AGE</th>\n",
       "      <th>GENDER</th>\n",
       "      <th>UHID</th>\n",
       "      <th>PRESENTATION</th>\n",
       "      <th>Stage_1</th>\n",
       "      <th>DOS</th>\n",
       "      <th>FNAC</th>\n",
       "      <th>Stage_2_class</th>\n",
       "      <th>HPE</th>\n",
       "      <th>Stage_3</th>\n",
       "      <th>Unnamed: 12</th>\n",
       "      <th>CORRELATION YES/NO</th>\n",
       "      <th>Predicted</th>\n",
       "      <th>Unnamed: 15</th>\n",
       "      <th>age_group</th>\n",
       "    </tr>\n",
       "  </thead>\n",
       "  <tbody>\n",
       "    <tr>\n",
       "      <th>0</th>\n",
       "      <td>1</td>\n",
       "      <td>RATHI SHEDTHI</td>\n",
       "      <td>67.0</td>\n",
       "      <td>Female</td>\n",
       "      <td>1481122</td>\n",
       "      <td>SOLITARY NODULE WITH LYMPH NODES</td>\n",
       "      <td>CARCINOMA</td>\n",
       "      <td>27/3/2023</td>\n",
       "      <td>PAPILLARY CARCINOMA B-IV</td>\n",
       "      <td>4</td>\n",
       "      <td>HASHIMOTO'S THYROIDITIS</td>\n",
       "      <td>THYROIDITIS</td>\n",
       "      <td>0</td>\n",
       "      <td>N</td>\n",
       "      <td>TN</td>\n",
       "      <td>93.0</td>\n",
       "      <td>60-70</td>\n",
       "    </tr>\n",
       "    <tr>\n",
       "      <th>1</th>\n",
       "      <td>2</td>\n",
       "      <td>SHABEENA</td>\n",
       "      <td>22.0</td>\n",
       "      <td>Female</td>\n",
       "      <td>1482969</td>\n",
       "      <td>SOLITARY NODULE - SUDDEN INCREASE IN SIZE</td>\n",
       "      <td>CARCINOMA</td>\n",
       "      <td>29/3/2024</td>\n",
       "      <td>FOLLICULAR NEOPLASM B- IV</td>\n",
       "      <td>4</td>\n",
       "      <td>MULTINODULAR GOITRE</td>\n",
       "      <td>BENIGN</td>\n",
       "      <td>1</td>\n",
       "      <td>N</td>\n",
       "      <td>TN</td>\n",
       "      <td>NaN</td>\n",
       "      <td>&lt;30</td>\n",
       "    </tr>\n",
       "    <tr>\n",
       "      <th>2</th>\n",
       "      <td>3</td>\n",
       "      <td>VINAY K</td>\n",
       "      <td>31.0</td>\n",
       "      <td>Male</td>\n",
       "      <td>1400945</td>\n",
       "      <td>SOLITARY NODULE</td>\n",
       "      <td>BENIGN</td>\n",
       "      <td>29/3/2023</td>\n",
       "      <td>NODULAR GOITRE B-II</td>\n",
       "      <td>2</td>\n",
       "      <td>GRAVE'S DISEASE</td>\n",
       "      <td>THYROIDITIS</td>\n",
       "      <td>1</td>\n",
       "      <td>N</td>\n",
       "      <td>TN</td>\n",
       "      <td>NaN</td>\n",
       "      <td>30-40</td>\n",
       "    </tr>\n",
       "    <tr>\n",
       "      <th>3</th>\n",
       "      <td>4</td>\n",
       "      <td>REKHA</td>\n",
       "      <td>35.0</td>\n",
       "      <td>Female</td>\n",
       "      <td>1484783</td>\n",
       "      <td>SOLITARY NODULE</td>\n",
       "      <td>BENIGN</td>\n",
       "      <td>8/4/2023</td>\n",
       "      <td>NODULAR GOITRE, B- II</td>\n",
       "      <td>2</td>\n",
       "      <td>MULTINODULAR GOITRE</td>\n",
       "      <td>BENIGN</td>\n",
       "      <td>1</td>\n",
       "      <td>Y</td>\n",
       "      <td>TN</td>\n",
       "      <td>NaN</td>\n",
       "      <td>30-40</td>\n",
       "    </tr>\n",
       "    <tr>\n",
       "      <th>4</th>\n",
       "      <td>5</td>\n",
       "      <td>SALMA</td>\n",
       "      <td>38.0</td>\n",
       "      <td>Female</td>\n",
       "      <td>1485303</td>\n",
       "      <td>SOLITARY NODULE</td>\n",
       "      <td>BENIGN</td>\n",
       "      <td>15/4/2023</td>\n",
       "      <td>NODULAR GOITRE, B - II</td>\n",
       "      <td>2</td>\n",
       "      <td>MULTINODULAR GOITRE</td>\n",
       "      <td>BENIGN</td>\n",
       "      <td>1</td>\n",
       "      <td>Y</td>\n",
       "      <td>TN</td>\n",
       "      <td>NaN</td>\n",
       "      <td>30-40</td>\n",
       "    </tr>\n",
       "    <tr>\n",
       "      <th>...</th>\n",
       "      <td>...</td>\n",
       "      <td>...</td>\n",
       "      <td>...</td>\n",
       "      <td>...</td>\n",
       "      <td>...</td>\n",
       "      <td>...</td>\n",
       "      <td>...</td>\n",
       "      <td>...</td>\n",
       "      <td>...</td>\n",
       "      <td>...</td>\n",
       "      <td>...</td>\n",
       "      <td>...</td>\n",
       "      <td>...</td>\n",
       "      <td>...</td>\n",
       "      <td>...</td>\n",
       "      <td>...</td>\n",
       "      <td>...</td>\n",
       "    </tr>\n",
       "    <tr>\n",
       "      <th>101</th>\n",
       "      <td>102</td>\n",
       "      <td>SUMITRA</td>\n",
       "      <td>41.0</td>\n",
       "      <td>Female</td>\n",
       "      <td>1548963</td>\n",
       "      <td>SOLITARY NODULE</td>\n",
       "      <td>BENIGN</td>\n",
       "      <td>23/12/2023</td>\n",
       "      <td>FOLLICULAR NEOPLASM B-IV</td>\n",
       "      <td>4</td>\n",
       "      <td>MULTINODULAR GOITRE</td>\n",
       "      <td>BENIGN</td>\n",
       "      <td>1</td>\n",
       "      <td>N</td>\n",
       "      <td>TN</td>\n",
       "      <td>NaN</td>\n",
       "      <td>40-50</td>\n",
       "    </tr>\n",
       "    <tr>\n",
       "      <th>102</th>\n",
       "      <td>103</td>\n",
       "      <td>DUNDAVVA NARAGUND</td>\n",
       "      <td>60.0</td>\n",
       "      <td>Female</td>\n",
       "      <td>1568604</td>\n",
       "      <td>SOLITARY NODULE</td>\n",
       "      <td>BENIGN</td>\n",
       "      <td>28/3/24</td>\n",
       "      <td>ATYPIA OF UNDETERMINED SIGNIFICANCE, B- III</td>\n",
       "      <td>3</td>\n",
       "      <td>MULTINODULAR GOITRE</td>\n",
       "      <td>BENIGN</td>\n",
       "      <td>1</td>\n",
       "      <td>N</td>\n",
       "      <td>TN</td>\n",
       "      <td>NaN</td>\n",
       "      <td>60-70</td>\n",
       "    </tr>\n",
       "    <tr>\n",
       "      <th>103</th>\n",
       "      <td>104</td>\n",
       "      <td>KASTURI HANCHINMANI</td>\n",
       "      <td>38.0</td>\n",
       "      <td>Female</td>\n",
       "      <td>738497</td>\n",
       "      <td>SOLITARY NODULE</td>\n",
       "      <td>BENIGN</td>\n",
       "      <td>12/4/24</td>\n",
       "      <td>NODULAR GOITRE B-II</td>\n",
       "      <td>2</td>\n",
       "      <td>MULTINODULAR GOITRE</td>\n",
       "      <td>BENIGN</td>\n",
       "      <td>1</td>\n",
       "      <td>Y</td>\n",
       "      <td>TN</td>\n",
       "      <td>NaN</td>\n",
       "      <td>30-40</td>\n",
       "    </tr>\n",
       "    <tr>\n",
       "      <th>104</th>\n",
       "      <td>105</td>\n",
       "      <td>SEEMAKOUZAR MIRZA</td>\n",
       "      <td>31.0</td>\n",
       "      <td>Female</td>\n",
       "      <td>1578704</td>\n",
       "      <td>SOLITARY NODULE SUDDEN INCREASE IN SIZE</td>\n",
       "      <td>CARCINOMA</td>\n",
       "      <td>21/5/2024</td>\n",
       "      <td>FOLLICULAR NEOPLASM B-III</td>\n",
       "      <td>3</td>\n",
       "      <td>FOLLICULAR ADENOMA</td>\n",
       "      <td>BENIGN</td>\n",
       "      <td>1</td>\n",
       "      <td>Y</td>\n",
       "      <td>TN</td>\n",
       "      <td>NaN</td>\n",
       "      <td>30-40</td>\n",
       "    </tr>\n",
       "    <tr>\n",
       "      <th>105</th>\n",
       "      <td>106</td>\n",
       "      <td>RATNAVVA</td>\n",
       "      <td>49.0</td>\n",
       "      <td>Female</td>\n",
       "      <td>4677822</td>\n",
       "      <td>SOLITARY NODULE</td>\n",
       "      <td>BENIGN</td>\n",
       "      <td>14/6/2024</td>\n",
       "      <td>NODULAR GOITRE B-II</td>\n",
       "      <td>2</td>\n",
       "      <td>MULTINODULAR GOITRE</td>\n",
       "      <td>BENIGN</td>\n",
       "      <td>1</td>\n",
       "      <td>Y</td>\n",
       "      <td>TN</td>\n",
       "      <td>NaN</td>\n",
       "      <td>40-50</td>\n",
       "    </tr>\n",
       "  </tbody>\n",
       "</table>\n",
       "<p>106 rows × 17 columns</p>\n",
       "</div>"
      ],
      "text/plain": [
       "     SL.NO                 NAME  AGE   GENDER     UHID  \\\n",
       "0        1        RATHI SHEDTHI  67.0  Female  1481122   \n",
       "1        2             SHABEENA  22.0  Female  1482969   \n",
       "2        3              VINAY K  31.0    Male  1400945   \n",
       "3        4                REKHA  35.0  Female  1484783   \n",
       "4        5                SALMA  38.0  Female  1485303   \n",
       "..     ...                  ...   ...     ...      ...   \n",
       "101    102              SUMITRA  41.0  Female  1548963   \n",
       "102    103    DUNDAVVA NARAGUND  60.0  Female  1568604   \n",
       "103    104  KASTURI HANCHINMANI  38.0  Female   738497   \n",
       "104    105    SEEMAKOUZAR MIRZA  31.0  Female  1578704   \n",
       "105    106             RATNAVVA  49.0  Female  4677822   \n",
       "\n",
       "                                  PRESENTATION    Stage_1         DOS  \\\n",
       "0             SOLITARY NODULE WITH LYMPH NODES  CARCINOMA   27/3/2023   \n",
       "1    SOLITARY NODULE - SUDDEN INCREASE IN SIZE  CARCINOMA   29/3/2024   \n",
       "2                             SOLITARY NODULE      BENIGN   29/3/2023   \n",
       "3                             SOLITARY NODULE      BENIGN    8/4/2023   \n",
       "4                              SOLITARY NODULE     BENIGN   15/4/2023   \n",
       "..                                         ...        ...         ...   \n",
       "101                            SOLITARY NODULE     BENIGN  23/12/2023   \n",
       "102                            SOLITARY NODULE     BENIGN     28/3/24   \n",
       "103                           SOLITARY NODULE      BENIGN     12/4/24   \n",
       "104    SOLITARY NODULE SUDDEN INCREASE IN SIZE  CARCINOMA   21/5/2024   \n",
       "105                            SOLITARY NODULE     BENIGN   14/6/2024   \n",
       "\n",
       "                                            FNAC  Stage_2_class  \\\n",
       "0                       PAPILLARY CARCINOMA B-IV              4   \n",
       "1                      FOLLICULAR NEOPLASM B- IV              4   \n",
       "2                            NODULAR GOITRE B-II              2   \n",
       "3                          NODULAR GOITRE, B- II              2   \n",
       "4                         NODULAR GOITRE, B - II              2   \n",
       "..                                           ...            ...   \n",
       "101                     FOLLICULAR NEOPLASM B-IV              4   \n",
       "102  ATYPIA OF UNDETERMINED SIGNIFICANCE, B- III              3   \n",
       "103                          NODULAR GOITRE B-II              2   \n",
       "104                    FOLLICULAR NEOPLASM B-III              3   \n",
       "105                          NODULAR GOITRE B-II              2   \n",
       "\n",
       "                         HPE      Stage_3  Unnamed: 12 CORRELATION YES/NO  \\\n",
       "0    HASHIMOTO'S THYROIDITIS  THYROIDITIS            0                  N   \n",
       "1        MULTINODULAR GOITRE       BENIGN            1                  N   \n",
       "2            GRAVE'S DISEASE  THYROIDITIS            1                  N   \n",
       "3        MULTINODULAR GOITRE       BENIGN            1                  Y   \n",
       "4        MULTINODULAR GOITRE       BENIGN            1                  Y   \n",
       "..                       ...          ...          ...                ...   \n",
       "101      MULTINODULAR GOITRE       BENIGN            1                  N   \n",
       "102      MULTINODULAR GOITRE       BENIGN            1                  N   \n",
       "103      MULTINODULAR GOITRE       BENIGN            1                  Y   \n",
       "104       FOLLICULAR ADENOMA       BENIGN            1                  Y   \n",
       "105      MULTINODULAR GOITRE       BENIGN            1                  Y   \n",
       "\n",
       "    Predicted   Unnamed: 15 age_group  \n",
       "0           TN         93.0     60-70  \n",
       "1           TN          NaN       <30  \n",
       "2           TN          NaN     30-40  \n",
       "3           TN          NaN     30-40  \n",
       "4           TN          NaN     30-40  \n",
       "..         ...          ...       ...  \n",
       "101         TN          NaN     40-50  \n",
       "102         TN          NaN     60-70  \n",
       "103         TN          NaN     30-40  \n",
       "104         TN          NaN     30-40  \n",
       "105         TN          NaN     40-50  \n",
       "\n",
       "[106 rows x 17 columns]"
      ]
     },
     "execution_count": 22,
     "metadata": {},
     "output_type": "execute_result"
    }
   ],
   "source": [
    "df_all['GENDER'] = df_all['GENDER'].map({ 'M': 'Male', 'F': 'Female'})\n",
    "\n",
    "bins = [0, 30, 40, 50, 60, 70, 100]\n",
    "group = ['<30', '30-40', '40-50', '50-60', '60-70', '70<']\n",
    "df_all['age_group'] = pd.cut(df_all['AGE '], bins=bins, labels=group, right=False).cat.add_categories('missing').fillna('missing')\n",
    "df_all"
   ]
  },
  {
   "cell_type": "code",
   "execution_count": 23,
   "id": "d4c007bd",
   "metadata": {},
   "outputs": [
    {
     "name": "stdout",
     "output_type": "stream",
     "text": [
      "     SL.NO                 NAME  AGE   GENDER     UHID  \\\n",
      "0        1        RATHI SHEDTHI  67.0  Female  1481122   \n",
      "1        2             SHABEENA  22.0  Female  1482969   \n",
      "2        3              VINAY K  31.0    Male  1400945   \n",
      "3        4                REKHA  35.0  Female  1484783   \n",
      "4        5                SALMA  38.0  Female  1485303   \n",
      "..     ...                  ...   ...     ...      ...   \n",
      "101    102              SUMITRA  41.0  Female  1548963   \n",
      "102    103    DUNDAVVA NARAGUND  60.0  Female  1568604   \n",
      "103    104  KASTURI HANCHINMANI  38.0  Female   738497   \n",
      "104    105    SEEMAKOUZAR MIRZA  31.0  Female  1578704   \n",
      "105    106             RATNAVVA  49.0  Female  4677822   \n",
      "\n",
      "                                  PRESENTATION    Stage_1         DOS  \\\n",
      "0             SOLITARY NODULE WITH LYMPH NODES  CARCINOMA   27/3/2023   \n",
      "1    SOLITARY NODULE - SUDDEN INCREASE IN SIZE  CARCINOMA   29/3/2024   \n",
      "2                             SOLITARY NODULE      BENIGN   29/3/2023   \n",
      "3                             SOLITARY NODULE      BENIGN    8/4/2023   \n",
      "4                              SOLITARY NODULE     BENIGN   15/4/2023   \n",
      "..                                         ...        ...         ...   \n",
      "101                            SOLITARY NODULE     BENIGN  23/12/2023   \n",
      "102                            SOLITARY NODULE     BENIGN     28/3/24   \n",
      "103                           SOLITARY NODULE      BENIGN     12/4/24   \n",
      "104    SOLITARY NODULE SUDDEN INCREASE IN SIZE  CARCINOMA   21/5/2024   \n",
      "105                            SOLITARY NODULE     BENIGN   14/6/2024   \n",
      "\n",
      "                                            FNAC  Stage_2_class  \\\n",
      "0                       PAPILLARY CARCINOMA B-IV              4   \n",
      "1                      FOLLICULAR NEOPLASM B- IV              4   \n",
      "2                            NODULAR GOITRE B-II              2   \n",
      "3                          NODULAR GOITRE, B- II              2   \n",
      "4                         NODULAR GOITRE, B - II              2   \n",
      "..                                           ...            ...   \n",
      "101                     FOLLICULAR NEOPLASM B-IV              4   \n",
      "102  ATYPIA OF UNDETERMINED SIGNIFICANCE, B- III              3   \n",
      "103                          NODULAR GOITRE B-II              2   \n",
      "104                    FOLLICULAR NEOPLASM B-III              3   \n",
      "105                          NODULAR GOITRE B-II              2   \n",
      "\n",
      "                         HPE      Stage_3  Unnamed: 12 CORRELATION YES/NO  \\\n",
      "0    HASHIMOTO'S THYROIDITIS  THYROIDITIS            0                  N   \n",
      "1        MULTINODULAR GOITRE       BENIGN            1                  N   \n",
      "2            GRAVE'S DISEASE  THYROIDITIS            1                  N   \n",
      "3        MULTINODULAR GOITRE       BENIGN            1                  Y   \n",
      "4        MULTINODULAR GOITRE       BENIGN            1                  Y   \n",
      "..                       ...          ...          ...                ...   \n",
      "101      MULTINODULAR GOITRE       BENIGN            1                  N   \n",
      "102      MULTINODULAR GOITRE       BENIGN            1                  N   \n",
      "103      MULTINODULAR GOITRE       BENIGN            1                  Y   \n",
      "104       FOLLICULAR ADENOMA       BENIGN            1                  Y   \n",
      "105      MULTINODULAR GOITRE       BENIGN            1                  Y   \n",
      "\n",
      "    Predicted   Unnamed: 15 age_group  \n",
      "0           TN         93.0     60-70  \n",
      "1           TN          NaN       <30  \n",
      "2           TN          NaN     30-40  \n",
      "3           TN          NaN     30-40  \n",
      "4           TN          NaN     30-40  \n",
      "..         ...          ...       ...  \n",
      "101         TN          NaN     40-50  \n",
      "102         TN          NaN     60-70  \n",
      "103         TN          NaN     30-40  \n",
      "104         TN          NaN     30-40  \n",
      "105         TN          NaN     40-50  \n",
      "\n",
      "[106 rows x 17 columns]\n"
     ]
    }
   ],
   "source": [
    "print(df_all)"
   ]
  },
  {
   "cell_type": "code",
   "execution_count": 24,
   "id": "dff0f81e",
   "metadata": {},
   "outputs": [],
   "source": [
    "df_all.to_csv('out.csv')"
   ]
  },
  {
   "cell_type": "code",
   "execution_count": 26,
   "id": "68b3c237",
   "metadata": {},
   "outputs": [
    {
     "data": {
      "image/png": "[encoded data removed]",
      "text/plain": [
       "<Figure size 1080x720 with 1 Axes>"
      ]
     },
     "metadata": {},
     "output_type": "display_data"
    }
   ],
   "source": [
    "import matplotlib.pyplot as plt\n",
    "import matplotlib.patches as patches\n",
    "\n",
    "plt.rcParams[\"figure.figsize\"] = (15, 10)\n",
    "plt.rcParams['figure.facecolor'] = 'white'\n",
    "\n",
    "#df_bar = pd.DataFrame(df_all, columns=[\"age_group\",\"GENDER\"])\n",
    "ax = pd.crosstab(df_all['age_group'],df_all['GENDER']).plot.bar()\n",
    "\n",
    "ax.set_xlabel('age', fontsize=20)\n",
    "ax.set_ylabel('count', fontsize=20)\n",
    "\n",
    "ax.tick_params(axis='x', labelrotation='auto', labelsize=18)\n",
    "ax.tick_params(axis='y', labelrotation='auto', labelsize=18)\n",
    "\n",
    "ax.legend(prop={'size': 16})\n",
    "ax.set_title('Age & gender distribution of patients', fontsize=25)\n",
    "\n",
    "ax.add_patch(patches.Rectangle((0, 0), 1, 1, color='white', zorder=-1))\n",
    "plt.savefig('my_plot.png') "
   ]
  },
  {
   "cell_type": "code",
   "execution_count": 27,
   "id": "dacf310e",
   "metadata": {},
   "outputs": [
    {
     "data": {
      "text/plain": [
       "'3.3.4'"
      ]
     },
     "execution_count": 27,
     "metadata": {},
     "output_type": "execute_result"
    }
   ],
   "source": [
    "import matplotlib\n",
    "matplotlib.__version__"
   ]
  },
  {
   "cell_type": "code",
   "execution_count": 28,
   "id": "764d7f16",
   "metadata": {},
   "outputs": [
    {
     "name": "stdout",
     "output_type": "stream",
     "text": [
      "   GENDER  SL.NO\n",
      "0  Female     94\n",
      "1    Male     12\n",
      "   GENDER  SL.NO    percent\n",
      "0  Female     94  88.679245\n",
      "1    Male     12  11.320755\n"
     ]
    }
   ],
   "source": [
    "df_gender = df_all.groupby(['GENDER'])['SL.NO'].count().reset_index()\n",
    "print(df_gender)\n",
    "\n",
    "\n",
    "df_gender['percent'] = (df_gender['SL.NO'] / df_gender['SL.NO'].sum()) * 100\n",
    "print(df_gender)"
   ]
  },
  {
   "cell_type": "code",
   "execution_count": 29,
   "id": "b184268a",
   "metadata": {},
   "outputs": [
    {
     "data": {
      "image/png": "[encoded data removed]",
      "text/plain": [
       "<Figure size 504x504 with 1 Axes>"
      ]
     },
     "metadata": {},
     "output_type": "display_data"
    }
   ],
   "source": [
    "column_to_plot = 'percent'\n",
    "\n",
    "plt.rcParams.update({'font.size': 20})\n",
    "# Create the pie chart\n",
    "plt.figure(figsize=(7, 7))  # Adjust figure size as desired\n",
    "plt.pie(df_gender[column_to_plot], labels=df_gender['GENDER'], autopct=\"%1.1f%%\")  # Add labels and percentages\n",
    "\n",
    "# Optional customizations (titles, legend, etc.)\n",
    "plt.title('Gender proportion of 106 patients')\n",
    "plt.legend(df_gender['GENDER'], loc='best')\n",
    "plt.axis('equal')  # Equal aspect ratio ensures a circular pie chart\n",
    "\n",
    "plt.savefig('my_plot_1.png')"
   ]
  },
  {
   "cell_type": "code",
   "execution_count": 30,
   "id": "5301085f",
   "metadata": {},
   "outputs": [
    {
     "data": {
      "image/png": "[encoded data removed]",
      "text/plain": [
       "<Figure size 1080x720 with 1 Axes>"
      ]
     },
     "metadata": {},
     "output_type": "display_data"
    }
   ],
   "source": [
    "import matplotlib.pyplot as plt\n",
    "import matplotlib.patches as patches\n",
    "\n",
    "plt.rcParams[\"figure.figsize\"] = (15, 10)\n",
    "plt.rcParams['figure.facecolor'] = 'white'\n",
    "\n",
    "#df_bar = pd.DataFrame(df_all, columns=[\"age_group\",\"GENDER\"])\n",
    "ax = pd.crosstab(df_all['age_group'],df_all['Stage_3']).plot.bar()\n",
    "\n",
    "ax.set_xlabel('age', fontsize=20)\n",
    "ax.set_ylabel('count', fontsize=20)\n",
    "\n",
    "ax.tick_params(axis='x', labelrotation='auto', labelsize=18)\n",
    "ax.tick_params(axis='y', labelrotation='auto', labelsize=18)\n",
    "\n",
    "ax.legend(prop={'size': 16})\n",
    "ax.set_title('Age & Histopathology results distribution of patients', fontsize=25)\n",
    "\n",
    "ax.add_patch(patches.Rectangle((0, 0), 1, 1, color='white', zorder=-1))\n",
    "plt.savefig('age_hist.png') "
   ]
  },
  {
   "cell_type": "code",
   "execution_count": 31,
   "id": "94377a39",
   "metadata": {},
   "outputs": [
    {
     "data": {
      "image/png": "[encoded data removed]",
      "text/plain": [
       "<Figure size 1080x720 with 1 Axes>"
      ]
     },
     "metadata": {},
     "output_type": "display_data"
    }
   ],
   "source": [
    "import matplotlib.pyplot as plt\n",
    "import matplotlib.patches as patches\n",
    "\n",
    "plt.rcParams[\"figure.figsize\"] = (15, 10)\n",
    "plt.rcParams['figure.facecolor'] = 'white'\n",
    "\n",
    "#df_bar = pd.DataFrame(df_all, columns=[\"age_group\",\"GENDER\"])\n",
    "ax = pd.crosstab(df_all['GENDER'],df_all['Stage_3']).plot.bar()\n",
    "\n",
    "ax.set_xlabel('gender', fontsize=20)\n",
    "ax.set_ylabel('count', fontsize=20)\n",
    "\n",
    "ax.tick_params(axis='x', labelrotation='auto', labelsize=18)\n",
    "ax.tick_params(axis='y', labelrotation='auto', labelsize=18)\n",
    "\n",
    "ax.legend(prop={'size': 16})\n",
    "ax.set_title('Age & Histopathology results distribution of patients', fontsize=25)\n",
    "\n",
    "ax.add_patch(patches.Rectangle((0, 0), 1, 1, color='white', zorder=-1))\n",
    "plt.savefig('age_cancer.png') "
   ]
  },
  {
   "cell_type": "code",
   "execution_count": null,
   "id": "ea3f768d",
   "metadata": {},
   "outputs": [],
   "source": []
  }
 ],
 "metadata": {
  "kernelspec": {
   "display_name": "Python [conda env:env_od]",
   "language": "python",
   "name": "conda-env-env_od-py"
  },
  "language_info": {
   "codemirror_mode": {
    "name": "ipython",
    "version": 3
   },
   "file_extension": ".py",
   "mimetype": "text/x-python",
   "name": "python",
   "nbconvert_exporter": "python",
   "pygments_lexer": "ipython3",
   "version": "3.6.13"
  }
 },
 "nbformat": 4,
 "nbformat_minor": 5
}
